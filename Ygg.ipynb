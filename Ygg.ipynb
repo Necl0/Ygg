{
  "nbformat": 4,
  "nbformat_minor": 0,
  "metadata": {
    "colab": {
      "name": "Ygg.ipynb",
      "provenance": [],
      "collapsed_sections": [],
      "mount_file_id": "1-XRciiiDC2aMcHEBF0fVp0JROwb2Cnip",
      "authorship_tag": "ABX9TyN7UomO0W66YRqBSmJcOUG7",
      "include_colab_link": true
    },
    "kernelspec": {
      "name": "python3",
      "display_name": "Python 3"
    },
    "language_info": {
      "name": "python"
    },
    "gpuClass": "standard"
  },
  "cells": [
    {
      "cell_type": "markdown",
      "metadata": {
        "id": "view-in-github",
        "colab_type": "text"
      },
      "source": [
        "<a href=\"https://colab.research.google.com/github/Necloremius/Ygg/blob/main/Ygg.ipynb\" target=\"_parent\"><img src=\"https://colab.research.google.com/assets/colab-badge.svg\" alt=\"Open In Colab\"/></a>"
      ]
    },
    {
      "cell_type": "code",
      "source": [
        "import sklearn\n",
        "import seaborn as sns\n",
        "import numpy as np\n",
        "import pandas as pd\n",
        "import glob\n",
        "import cv2\n",
        "import pickle\n",
        "import matplotlib.pyplot as plt\n",
        "\n",
        "from sklearn import metrics\n",
        "from sklearn import svm\n",
        "from sklearn.model_selection import train_test_split\n",
        "\n",
        "from google.colab.patches import cv2_imshow\n",
        "\n",
        "labels = {'astilbe': 1,'bellflower': 2,'black_eyed_susan': 3,'calendula': 4,'california_poppy': 5,'carnation': 6,'common_daisy': 7,'coreopsis': 8,\n",
        "          'daffodil': 9,'dandelion': 10,'iris': 11,'magnolia': 12,'rose': 13,'sunflower': 14,'tulip': 15,'water_lily': 16}\n",
        "      \n",
        "imgs = []\n",
        "y = []"
      ],
      "metadata": {
        "id": "3QXT7q1tfJTu"
      },
      "execution_count": 2,
      "outputs": []
    },
    {
      "cell_type": "code",
      "source": [
        "for flower in labels:\n",
        "  for filename in glob.glob(f\"/content/drive/MyDrive/archive/flowers/{flower}/*.jpg\"): \n",
        "      #read in image as greyscale\n",
        "      img = cv2.imread(filename, 0)\n",
        "\n",
        "      # resize to 50x50\n",
        "      img = cv2.resize(img, (75,75))\n",
        "      y.append(labels[flower])\n",
        "      imgs.append(img)\n",
        "\n"
      ],
      "metadata": {
        "id": "QKuBRjvEfSZW"
      },
      "execution_count": 3,
      "outputs": []
    },
    {
      "cell_type": "code",
      "source": [
        "x_train, x_test, y_train, y_test = train_test_split(imgs, y, test_size=0.2)\n",
        "\n",
        "x_train = np.array(x_train)\n",
        "x_test = np.array(x_test)\n",
        "y_train = np.array(y_train)\n",
        "y_test = np.array(y_test)"
      ],
      "metadata": {
        "id": "fk9VKlQQs-8x"
      },
      "execution_count": 4,
      "outputs": []
    },
    {
      "cell_type": "code",
      "source": [
        "nsamples, nx, ny = x_train.shape\n",
        "x_train2d = x_train.reshape((nsamples, nx*ny))\n",
        "\n",
        "nsamples, nx, ny = x_test.shape\n",
        "x_test2d = x_test.reshape((nsamples, nx*ny))"
      ],
      "metadata": {
        "id": "C3o0OMd9Fsnm"
      },
      "execution_count": 5,
      "outputs": []
    },
    {
      "cell_type": "code",
      "source": [
        "clf = svm.SVC()\n",
        "\n",
        "clf.fit(x_train2d, y_train)\n",
        "\n",
        "# Create predictions on the testing set\n",
        "y_predict = clf.predict(x_test2d)\n",
        "\n",
        "# compare the predicted labels to the actual labels and conver to percentage to output\n",
        "acc = metrics.accuracy_score(y_test, y_predict)*100\n",
        "print(f\"{acc}% accuracy\")\n",
        "\n",
        "# save\n",
        "with open('model.pkl','wb') as f:\n",
        "    pickle.dump(clf,f)"
      ],
      "metadata": {
        "colab": {
          "base_uri": "https://localhost:8080/"
        },
        "id": "i5Eh70j5qt4c",
        "outputId": "5a1f8635-b26c-438e-a17e-76ffb2dd93e3"
      },
      "execution_count": 10,
      "outputs": [
        {
          "output_type": "stream",
          "name": "stdout",
          "text": [
            "24.618805590851334% accuracy\n"
          ]
        }
      ]
    },
    {
      "cell_type": "code",
      "source": [
        "# example of loading the model\n",
        "with open('model.pkl', 'rb') as f:\n",
        "    clf2 = pickle.load(f)\n"
      ],
      "metadata": {
        "id": "mSevTJ9K4WIU"
      },
      "execution_count": null,
      "outputs": []
    }
  ]
}