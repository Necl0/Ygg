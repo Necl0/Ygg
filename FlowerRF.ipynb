{
  "nbformat": 4,
  "nbformat_minor": 0,
  "metadata": {
    "colab": {
      "name": "FlowerRF.ipynb",
      "provenance": [],
      "collapsed_sections": [],
      "mount_file_id": "1-XRciiiDC2aMcHEBF0fVp0JROwb2Cnip",
      "authorship_tag": "ABX9TyMdsHf2SNy0Q1PpGzicyJg/",
      "include_colab_link": true
    },
    "kernelspec": {
      "name": "python3",
      "display_name": "Python 3"
    },
    "language_info": {
      "name": "python"
    },
    "gpuClass": "standard"
  },
  "cells": [
    {
      "cell_type": "markdown",
      "metadata": {
        "id": "view-in-github",
        "colab_type": "text"
      },
      "source": [
        "<a href=\"https://colab.research.google.com/github/Necloremius/Ygg/blob/main/FlowerRF.ipynb\" target=\"_parent\"><img src=\"https://colab.research.google.com/assets/colab-badge.svg\" alt=\"Open In Colab\"/></a>"
      ]
    },
    {
      "cell_type": "code",
      "source": [
        "import sklearn\n",
        "import seaborn as sns\n",
        "import numpy as np\n",
        "import pandas as pd\n",
        "import glob\n",
        "import cv2\n",
        "\n",
        "import matplotlib.pyplot as plt\n",
        "\n",
        "from sklearn import metrics\n",
        "from sklearn.model_selection import train_test_split\n",
        "from sklearn.preprocessing import StandardScaler\n",
        "from sklearn.neural_network import MLPClassifier\n",
        "from skimage import *\n",
        "\n",
        "from PIL import Image\n",
        "\n",
        "\n",
        "from google.colab.patches import cv2_imshow\n",
        "\n",
        "labels = {'astilbe': 1,'bellflower': 2,'black_eyed_susan': 3,'calendula': 4,'california_poppy': 5,'carnation': 6,'common_daisy': 7,'coreopsis': 8,\n",
        "          'daffodil': 9,'dandelion': 10,'iris': 11,'magnolia': 12,'rose': 13,'sunflower': 14,'tulip': 15,'water_lily': 16}\n",
        "      \n",
        "imgs = []\n",
        "y = []"
      ],
      "metadata": {
        "id": "3QXT7q1tfJTu"
      },
      "execution_count": 2,
      "outputs": []
    },
    {
      "cell_type": "code",
      "source": [
        "for flower in labels:\n",
        "  for filename in glob.glob(f\"/content/drive/MyDrive/archive/flowers/{flower}/*.jpg\"): \n",
        "      #read in image as greyscale\n",
        "      img = cv2.imread(filename, 0)\n",
        "\n",
        "      # resize to 50x50\n",
        "      img = cv2.resize(img, (50,50))\n",
        "      y.append(labels[flower])\n",
        "      imgs.append(img)\n",
        "\n"
      ],
      "metadata": {
        "id": "QKuBRjvEfSZW"
      },
      "execution_count": 11,
      "outputs": []
    },
    {
      "cell_type": "code",
      "source": [
        "\n",
        "x_train, x_test, y_train, y_test = train_test_split(imgs, y, test_size=0.2)\n",
        "\n",
        "x_train = np.array(x_train)\n",
        "x_test = np.array(x_test)\n",
        "y_train = np.array(y_train)\n",
        "y_test = np.array(y_test)"
      ],
      "metadata": {
        "id": "fk9VKlQQs-8x"
      },
      "execution_count": 12,
      "outputs": []
    },
    {
      "cell_type": "code",
      "source": [
        "nsamples, nx, ny = x_train.shape\n",
        "x_train2d = x_train.reshape((nsamples, nx*ny))\n",
        "\n",
        "nsamples, nx, ny = x_test.shape\n",
        "x_test2d = x_test.reshape((nsamples, nx*ny))"
      ],
      "metadata": {
        "id": "C3o0OMd9Fsnm"
      },
      "execution_count": 13,
      "outputs": []
    },
    {
      "cell_type": "code",
      "source": [
        "mlp = MLPClassifier(hidden_layer_sizes=(100, 50, 16), max_iter=100000, batch_size = 1024)\n",
        "mlp.fit(x_train2d, y_train)\n",
        "\n",
        "\n",
        "# Create predictions on the testing set\n",
        "predictions = mlp.predict(x_test2d)\n",
        "\n",
        "# compare the predicted labels to the actual labels and conver to percentage to output\n",
        "acc = metrics.accuracy_score(y_test, predictions)*100\n",
        "print(f\"{acc}% accuracy\")"
      ],
      "metadata": {
        "id": "bBqWQfnFABRG",
        "colab": {
          "base_uri": "https://localhost:8080/"
        },
        "outputId": "a9d56336-06d5-48a9-83c7-598c3da64470"
      },
      "execution_count": 14,
      "outputs": [
        {
          "output_type": "stream",
          "name": "stdout",
          "text": [
            "6.639135959339263% accuracy\n"
          ]
        }
      ]
    }
  ]
}